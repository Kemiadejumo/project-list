{
 "cells": [
  {
   "cell_type": "markdown",
   "metadata": {
    "azdata_cell_guid": "4472e9de-cc1b-4f4a-969c-71230c62181f",
    "language": "python"
   },
   "source": [
    "### **_PART\\_1: Import Packages and Connect to Database_**"
   ]
  },
  {
   "cell_type": "code",
   "execution_count": null,
   "metadata": {
    "azdata_cell_guid": "79f4988b-89c8-4d59-9219-4eee190a504a",
    "language": "python",
    "tags": []
   },
   "outputs": [],
   "source": [
    "# CREATED BY KEMI ADEJUMO\n",
    "#IMPORT ALL PACKAGES \n",
    "from sqlalchemy import create_engine\n",
    "from sqlalchemy.engine import URL\n",
    "from openpyxl import load_workbook\n",
    "import tkinter as tk\n",
    "from tkinter import ttk\n",
    "import pyodbc as odbc\n",
    "import pandas as pd\n",
    "import numpy as np\n",
    "import glob\n",
    "import ctypes\n",
    "import warnings\n",
    "import datetime\n",
    "warnings.filterwarnings(\"ignore\")\n",
    "\n",
    "DRIVER_NAME = 'SQL_SERVER'\n",
    "SERVER_NAME = 'SERVER_NAME'\n",
    "DATABASE_NAME = 'DATABASE_NAME'\n",
    "UID= <username>\n",
    "PWD= <password>\n",
    "connection_string = f\"\"\"\n",
    "    DRIVER={{{DRIVER_NAME}}};\n",
    "    SERVER={SERVER_NAME};\n",
    "    DATABASE_NAME={DATABASE_NAME};\n",
    "    Trust_Connection=yes;\"\"\" \n",
    "\n",
    "connection_url = URL.create(\"mssql+pyodbc\", query={\"odbc_connect\":connection_string})\n",
    "engine = create_engine(connection_url, module=odbc)"
   ]
  },
  {
   "cell_type": "markdown",
   "metadata": {
    "azdata_cell_guid": "adf4315b-1ded-4ef2-9b9f-c887785094e6"
   },
   "source": [
    "### _**PART\\_2: OLd POGList Products**_     _(Yo_<span style=\"color: var(--vscode-foreground); font-size: 14px;\"><em>u will need POGs/SSN, ResetDate, and Stores)</em></span>"
   ]
  },
  {
   "cell_type": "code",
   "execution_count": null,
   "metadata": {
    "azdata_cell_guid": "92deaf6a-a2c7-4129-9308-324b29f07da4",
    "language": "python",
    "tags": []
   },
   "outputs": [],
   "source": [
    "#Old POG List Products\n",
    "sql_statement= f\"\"\"\n",
    "With Start as (\n",
    "    \n",
    "SELECT  DBVersionKey,  MAX(DBDateEffectiveFrom) as 'Live Date'\n",
    "\n",
    "FROM DATABASE_NAME.Planogram\n",
    "\n",
    "WHERE Status1 IN ('Live', 'Pending', 'Merchandising Complete')\n",
    "AND SSN IN('D060_SSNAME',\n",
    "'D060_SSNAME',\n",
    "'D060_SSNAME',\n",
    "'D060_SSNAME',\n",
    "'D060_SSNAME',\n",
    "\n",
    ")\n",
    "\n",
    "\n",
    "AND (DBDateEffectiveFrom <= '2023-08-21 00:00:00.000')\n",
    "\n",
    "GROUP BY DBVersionKey\n",
    "\n",
    ")\n",
    "\n",
    "SELECT fp.STORE#, Start.DBVersionKey, Start.[Live Date], pg.DBKey, pg.DBStatus ,pr.Name, pg.Desc37,pr.UPC\n",
    "\n",
    "FROM Start JOIN DATABASE_NAME.Planogram as pg ON Start.DBVersionKey = pg.DBKey\n",
    "\n",
    "JOIN  DATABASE_NAME.Section as sc on pg.DBVersionKey = sc.DBParentPlanogramKey\n",
    "\n",
    "JOIN  DATABASE_NAME.floorplan as fp on sc.DBParentFloorplanKey = fp.DBKey\n",
    "\n",
    "JOIN  DATABASE_NAME.position AS ps ON pg.DBKey = ps.DBParentPlanogramKey \n",
    "\n",
    "JOIN  DATABASE_NAME.product as pr on ps.DBParentProductKey = pr.DBKey\n",
    "\n",
    "WHERE fp.STORE IN ('DIGITS','DIGITS');\n",
    "\n",
    "\"\"\"\n",
    "\n",
    "old_list = pd.read_sql_query(sql_statement,engine)\n",
    "old_list"
   ]
  },
  {
   "cell_type": "markdown",
   "metadata": {
    "azdata_cell_guid": "45815590-1480-4a8d-a024-828e0a0d405d"
   },
   "source": [
    "**_PART\\_3: New POG List Products_**"
   ]
  },
  {
   "cell_type": "code",
   "execution_count": null,
   "metadata": {
    "azdata_cell_guid": "0cf43627-8ae8-484f-9826-7071c26d881e",
    "language": "python"
   },
   "outputs": [],
   "source": [
    "#New POG List Products\n",
    "\n",
    "sql_statement_2 = f\"\"\"\n",
    "With Second as (\n",
    "\n",
    "SELECT  DBVersionKey,  MAX(DBDateEffectiveFrom) as 'Live Date'\n",
    "\n",
    "FROM DATABASE_NAME.Planogram\n",
    "\n",
    "WHERE Status1 IN ('Live', 'Pending', 'Mechandising Complete')\n",
    "AND SSN IN('D060_SSNAMEX','D060_SSNAMEZ')\n",
    "\n",
    "-- Reset date + 14 days\n",
    "AND (DBDateEffectiveFrom <= '2023-09-03 00:00:00.000')\n",
    "\n",
    "GROUP BY DBVersionKey\n",
    ")\n",
    "\n",
    "\n",
    "---\n",
    "\n",
    "SELECT Second.DBVersionKey, Second.[Live Date], pg.DBKey, pg.DBStatus ,pr.Name, pg.Desc37,pr.UPC\n",
    "\n",
    "FROM Second\n",
    "JOIN DATABASE_NAME.Planogram as pg ON Second.DBVersionKey = pg.DBversionKey\n",
    "\n",
    "--Now, connect to product table to pull products. \n",
    "\n",
    "JOIN  DATABASE_NAME.position AS ps ON pg.DBKey = ps.DBParentPlanogramKey \n",
    "JOIN  DATABASE_NAME.product as pr on ps.DBParentProductKey = pr.DBKey\n",
    "\n",
    "\n",
    "WHERE pg.DBKey IN ('DIGITS','DIGITS')\n",
    "\n",
    "\n",
    "\"\"\"\n",
    "new_list = pd.read_sql_query(sql_statement_2,engine)\n",
    "new_list\n"
   ]
  },
  {
   "cell_type": "markdown",
   "metadata": {
    "azdata_cell_guid": "79b38665-9bb3-4ae3-bb8d-ca7d7f0447b5"
   },
   "source": [
    "**PART\\_4: Comparing OLd And New UPC list; Old items that are not in new**"
   ]
  },
  {
   "cell_type": "code",
   "execution_count": null,
   "metadata": {
    "azdata_cell_guid": "3bcd9aca-4ebc-4202-ba19-dbd06e6a91b1",
    "language": "python"
   },
   "outputs": [],
   "source": [
    "#This will compare the old and new list product: old list upc that are not in new list will be printed (delete_upc)\n",
    "\n",
    "def compare_dataframes(old_list, new_list):\n",
    "    # Find unique UPCs in DataFrame A that are not in DataFrame B\n",
    "    unique_upcs = old_list[~old_list['UPC'].isin(new_list['UPC'])]\n",
    "\n",
    "    if unique_upcs.empty:\n",
    "        print(\"No unique UPCs found in DataFrame A.\")\n",
    "    else:\n",
    "        print(\"Unique UPCs in DataFrame A:\")\n",
    "        return unique_upcs\n",
    "\n",
    "delete_upc= compare_dataframes(old_list, new_list)\n",
    "\n",
    "delete_upc"
   ]
  },
  {
   "cell_type": "markdown",
   "metadata": {
    "azdata_cell_guid": "ccb9481f-c06b-41cc-9c6c-2862178e66bb"
   },
   "source": [
    "**PART\\_5: Find Other POGs attach to the delete UPCs**"
   ]
  },
  {
   "cell_type": "code",
   "execution_count": null,
   "metadata": {
    "azdata_cell_guid": "69d8d35c-4f23-4a31-b1b1-c1ac6738a3a0",
    "language": "python",
    "tags": []
   },
   "outputs": [],
   "source": [
    "#Convert the UPC column to tuples, and adding this format '000000123','00000000023\n",
    "\n",
    "#withzeros = delete_upc['UPC'].apply(lambda x: f'000{x}')\n",
    "\n",
    "withzerosx =tuple(delete_upc['UPC'].unique())\n",
    "\n",
    "delete_upcs = withzerosx\n",
    "\n",
    "\n",
    "\n",
    "\n",
    "\n",
    "\n"
   ]
  },
  {
   "cell_type": "code",
   "execution_count": null,
   "metadata": {
    "azdata_cell_guid": "e70aedef-2116-4544-936f-6fc72783bfb3",
    "language": "python"
   },
   "outputs": [],
   "source": [
    "# Take the delete upcs and find any other pogs attached to it.\n",
    "\n",
    "sql_statement1= f\"\"\"\n",
    "SELECT DISTINCT pr.UPC, \n",
    "pg.Desc37 as SSN,\n",
    "pr.Name AS Mask_Product_Name,\n",
    "pr.Desc32 AS Comm,\n",
    "pr.Size,\n",
    "pr.UOM,\n",
    "pg.DBKey,\n",
    "pg.DBVersionKey,\n",
    "fp.Desc22\n",
    "\n",
    "FROM DATABASE_NAME.Planogram as pg\n",
    "\n",
    "JOIN  DATABASE_NAME.Section as sc on pg.DBVersionKey = sc.DBParentPlanogramKey\n",
    "\n",
    "JOIN  DATABASE_NAME.floorplan as fp on sc.DBParentFloorplanKey = fp.DBKey\n",
    "\n",
    "JOIN  DATABASE_NAME.position AS ps ON pg.DBKey = ps.DBParentPlanogramKey \n",
    "\n",
    "JOIN  DATABASE_NAME.product as pr on ps.DBParentProductKey = pr.DBKey\n",
    "\n",
    "WHERE \n",
    "pr.UPC IN {delete_upcs} \n",
    "\n",
    "AND (pg.Status1 = 'Live' OR pg.Status1 = 'Pending' \n",
    "OR  pg.Status1 = 'Merchandising Complete') \n",
    "AND fp.STORE# IN ('DIGITS','DIGITS')\n",
    ";\n",
    "\"\"\"\n",
    "extend = pd.read_sql_query(sql_statement1,engine)\n",
    "#.drop_duplicates()\n",
    "extend\n",
    "#products.UPC IN {UPCs} AND\n"
   ]
  },
  {
   "cell_type": "markdown",
   "metadata": {
    "azdata_cell_guid": "ded2095e-d0ad-492f-8970-05e29ccc6fad"
   },
   "source": [
    "**PART\\_6: Compare Part 4 and 5: if part 5 in 4 (all) Proceed with Part 4 i.e keep,** if not then some upc have other POGs Proceed with Part 7"
   ]
  },
  {
   "cell_type": "code",
   "execution_count": null,
   "metadata": {
    "azdata_cell_guid": "cc10797e-9536-4b41-80b5-f4714a78a457",
    "language": "python"
   },
   "outputs": [],
   "source": [
    "def find_extends(delete_upcs, extend):\n",
    "    diff = extend[~extend['SSN'].isin(delete_upc['Desc37'])]\n",
    "\n",
    "    if diff.empty:\n",
    "        print(\"No extend POGs found in DataFrame A.\")\n",
    "    else:\n",
    "        print(\"Extend POGs in DataFrame A:\")\n",
    "        return diff\n",
    "\n",
    "extend_upc = find_extends(delete_upcs, extend)\n",
    "\n",
    "extend_upc"
   ]
  },
  {
   "cell_type": "markdown",
   "metadata": {
    "azdata_cell_guid": "cdd3279c-51bb-4d4e-82ba-52a7a9dc47d2"
   },
   "source": [
    "**PART\\_7 : This Step is contingent to part 6**\n",
    "\n",
    "Take part 6 delete the UPCs from PArt 4 and Keep ther rest of Part 4(this will the final products that will be submitted for deletes)"
   ]
  },
  {
   "cell_type": "code",
   "execution_count": null,
   "metadata": {
    "azdata_cell_guid": "e2a03f70-9247-4768-a0c4-7e40a5a33800",
    "language": "python"
   },
   "outputs": [],
   "source": [
    "extend_upc_tuple = tuple(extend_upc['UPC'].unique())\n",
    "\n",
    "# Function to delete rows with UPC values present in the 'delete_upc[UPC]' column\n",
    "def delete_rows_with_tuple(delete_upc_df, extend_upc_tuple):\n",
    "    # Use 'isin' to check if each UPC value in 'delete_upc_df' exists in the 'extend_upc_tuple'\n",
    "    mask = delete_upc_df['UPC'].isin(extend_upc_tuple)\n",
    "    \n",
    "    # Drop rows where the UPC value is present in 'extend_upc_tuple'\n",
    "    delete_upc_df = delete_upc_df[~mask]\n",
    "    \n",
    "    return delete_upc_df\n",
    "\n",
    "# Call the function to delete rows with UPC values present in 'extend_upc_tuple'\n",
    "call_func = delete_rows_with_tuple(delete_upc, extend_upc_tuple)\n",
    "\n",
    "# Print the remaining 'delete_upc[UPC]' after deleting the rows with UPC values in 'extend_upc_tuple'\n",
    "\n",
    "delete_upc_final = pd.DataFrame(call_func)\n",
    "\n",
    "delete_upc_final\n",
    "\n",
    "\n"
   ]
  }
 ],
 "metadata": {
  "kernelspec": {
   "display_name": "Python 3 (ipykernel)",
   "language": "python",
   "name": "python3"
  },
  "language_info": {
   "codemirror_mode": {
    "name": "ipython",
    "version": 3
   },
   "file_extension": ".py",
   "mimetype": "text/x-python",
   "name": "python",
   "nbconvert_exporter": "python",
   "pygments_lexer": "ipython3",
   "version": "3.9.13"
  }
 },
 "nbformat": 4,
 "nbformat_minor": 2
}

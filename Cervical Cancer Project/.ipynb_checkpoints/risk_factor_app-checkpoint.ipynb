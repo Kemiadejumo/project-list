{
 "cells": [
  {
   "cell_type": "code",
   "execution_count": 1,
   "id": "8ec2be3d",
   "metadata": {},
   "outputs": [],
   "source": [
    "import numpy as np\n",
    "from flask import Flask, request, render_template,url_for\n",
    "import pickle\n",
    "  "
   ]
  },
  {
   "cell_type": "code",
   "execution_count": 6,
   "id": "17b10985",
   "metadata": {
    "scrolled": true
   },
   "outputs": [
    {
     "name": "stdout",
     "output_type": "stream",
     "text": [
      " * Serving Flask app '__main__' (lazy loading)\n",
      " * Environment: production\n",
      "   WARNING: This is a development server. Do not use it in a production deployment.\n",
      "   Use a production WSGI server instead.\n",
      " * Debug mode: off\n"
     ]
    },
    {
     "name": "stderr",
     "output_type": "stream",
     "text": [
      " * Running on http://127.0.0.1:5000/ (Press CTRL+C to quit)\n",
      "127.0.0.1 - - [06/Apr/2022 16:39:06] \"GET / HTTP/1.1\" 200 -\n",
      "127.0.0.1 - - [06/Apr/2022 16:39:06] \"GET /static/css/style.css HTTP/1.1\" 404 -\n"
     ]
    }
   ],
   "source": [
    "app = Flask(__name__)\n",
    "    \n",
    "model = pickle.load(open('model.pkl','rb'))\n",
    "   \n",
    "\n",
    "@app.route(\"/\")\n",
    "def html():\n",
    "    return render_template('test.html')\n",
    "\n",
    "@app.route('/predict',methods=['POST'])\n",
    "def predict():\n",
    "    '''\n",
    "    For rendering results on HTML GUI\n",
    "    '''\n",
    "    int_features = [int(x) for x in request.form.values()]\n",
    "    final_features = [np.array(int_features)]\n",
    "    prediction = model.predict_proba(final_features)\n",
    "\n",
    "    output = prediction\n",
    "\n",
    "    \n",
    "    if output == 0:\n",
    "        return render_template('test.html', prediction_text ='You dont have cervical cancer. Model prediction is {}'.format(output))\n",
    "    else:\n",
    "        return render_template('test.html', prediction_text ='You have cervical cancer. Model Predicition is {}'.format(output))\n",
    "   \n",
    "\n",
    "\n",
    "    \n",
    "\n",
    "\n",
    "    \n",
    "if __name__ == '__main__':\n",
    "    app.run()"
   ]
  },
  {
   "cell_type": "code",
   "execution_count": null,
   "id": "aeb16552",
   "metadata": {},
   "outputs": [],
   "source": [
    "@app.route('/predict',methods=['POST'])\n",
    "def predict():\n",
    "    '''\n",
    "    For rendering results on HTML GUI\n",
    "    '''\n",
    "    int_features = [int(x) for x in request.form.values()]\n",
    "    final_features = [np.array(int_features)]\n",
    "    prediction = model.predict(final_features)\n",
    "\n",
    "    output = prediction\n",
    "\n",
    "    \n",
    "    if output == 0:\n",
    "        return render_template('inputdata.html', prediction_text ='You dont have cervical cancer. Model prediction is {}'.format(output))\n",
    "    else:\n",
    "        return render_template('inputdata.html', prediction_text ='You have cervical cancer. Model Predicition is {}'.format(output))\n",
    "   \n",
    "\n",
    "\n"
   ]
  }
 ],
 "metadata": {
  "kernelspec": {
   "display_name": "Python 3",
   "language": "python",
   "name": "python3"
  },
  "language_info": {
   "codemirror_mode": {
    "name": "ipython",
    "version": 3
   },
   "file_extension": ".py",
   "mimetype": "text/x-python",
   "name": "python",
   "nbconvert_exporter": "python",
   "pygments_lexer": "ipython3",
   "version": "3.8.8"
  }
 },
 "nbformat": 4,
 "nbformat_minor": 5
}
